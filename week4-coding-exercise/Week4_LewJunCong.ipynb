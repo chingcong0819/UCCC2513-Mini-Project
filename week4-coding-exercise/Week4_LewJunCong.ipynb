{
 "cells": [
  {
   "cell_type": "markdown",
   "id": "8966e6ad-c297-4f3c-84c9-60062c15d00c",
   "metadata": {},
   "source": [
    "### Question 1"
   ]
  },
  {
   "cell_type": "code",
   "execution_count": 1,
   "id": "b97e179f-11f5-47e6-8eb4-9db9d7f79b68",
   "metadata": {},
   "outputs": [],
   "source": [
    "import numpy as np\n",
    "import cv2 as cv\n",
    "\n",
    "# Set the dimensions for the images\n",
    "width, height = 256, 256\n",
    "\n",
    "# Create a random color image\n",
    "color_image = np.random.randint(0, 256, (height, width, 3), dtype=np.uint8)\n",
    "\n",
    "# Create a random grayscale image\n",
    "grayscale_image = np.random.randint(0, 256, (height, width), dtype=np.uint8)\n",
    "\n",
    "# Display the images\n",
    "cv.imshow(\"Color Image\", color_image)\n",
    "cv.imshow(\"Grayscale Image\", grayscale_image)\n",
    "cv.waitKey(0)\n",
    "cv.destroyAllWindows()"
   ]
  },
  {
   "cell_type": "markdown",
   "id": "d12b74ef",
   "metadata": {},
   "source": [
    "### Question 2"
   ]
  },
  {
   "cell_type": "code",
   "execution_count": 3,
   "id": "0350d30d",
   "metadata": {},
   "outputs": [],
   "source": [
    "import cv2 as cv\n",
    "import numpy as np\n",
    "\n",
    "def crop_grid(img, num_horizontal_grid, num_vertical_grid, line_color=(0, 255, 0)):\n",
    "    \"\"\"Divide an image into smaller patches using cropping and draw grid lines.\"\"\"\n",
    "    h, w = img.shape[:2]\n",
    "    dy, dx = h // num_vertical_grid, w // num_horizontal_grid\n",
    "\n",
    "    for y in range(0, h, dy):\n",
    "        cv.line(img, (0, y), (w, y), line_color, 1)\n",
    "    for x in range(0, w, dx):\n",
    "        cv.line(img, (x, 0), (x, h), line_color, 1)\n",
    "\n",
    "    return img\n",
    "\n",
    "# Example usage\n",
    "image = cv.imread(\"images/dog.jfif\")\n",
    "grid_image = crop_grid(image, 4, 4, (0, 255, 0))\n",
    "\n",
    "cv.imshow(\"Grid Image\", grid_image)\n",
    "cv.waitKey(0)\n",
    "cv.destroyAllWindows()"
   ]
  },
  {
   "cell_type": "markdown",
   "id": "719e1554",
   "metadata": {},
   "source": [
    "### Question 3\n"
   ]
  },
  {
   "cell_type": "markdown",
   "id": "7b9360a7",
   "metadata": {},
   "source": [
    "Method 1: Using simple addition to change the brightness of the colour image "
   ]
  },
  {
   "cell_type": "code",
   "execution_count": 6,
   "id": "c4d71e09",
   "metadata": {},
   "outputs": [],
   "source": [
    "def change_brightness_simple(img, beta):\n",
    "    \"\"\"Change the brightness of an image by simple addition.\"\"\"\n",
    "    return cv.convertScaleAbs(img, alpha=1, beta=beta)\n",
    "\n",
    "image = cv.imread(\"images/boat.jpg\")\n",
    "bright_image = change_brightness_simple(image, 50)\n",
    "\n",
    "cv.imshow(\"Bright Image\", bright_image)\n",
    "cv.waitKey(0)\n",
    "cv.destroyAllWindows()"
   ]
  },
  {
   "cell_type": "markdown",
   "id": "7bda3c12",
   "metadata": {},
   "source": [
    "Method 2: Using point operations"
   ]
  },
  {
   "cell_type": "code",
   "execution_count": 11,
   "id": "e1473cd9",
   "metadata": {},
   "outputs": [],
   "source": [
    "def change_brightness_point_op(img, alpha, beta):\n",
    "    \"\"\"Change the brightness of an image using point operations.\"\"\"\n",
    "    return cv.convertScaleAbs(img, alpha=alpha, beta=beta)\n",
    "\n",
    "image = cv.imread(\"images/native-bee.png\")\n",
    "bright_image = change_brightness_point_op(image, 1.2, 50)\n",
    "\n",
    "cv.imshow(\"Bright Image\", bright_image)\n",
    "cv.waitKey(0)\n",
    "cv.destroyAllWindows()"
   ]
  },
  {
   "cell_type": "markdown",
   "id": "c05f4b1f",
   "metadata": {},
   "source": [
    "### Question 4 "
   ]
  },
  {
   "cell_type": "markdown",
   "id": "12694a10",
   "metadata": {},
   "source": [
    "1. RGB (Red, Green, Blue)->\n",
    "Use Case: Displaying images on screens and for image processing tasks where direct pixel manipulation is required.\n",
    "\n",
    "2. HSV (Hue, Saturation, Value)->\n",
    "Use Case: Color-based image segmentation and object recognition. It's easier to separate chromatic content (color) from intensity (brightness) in this color space.\n",
    "\n",
    "3. CIELAB (Lab)->\n",
    "Use Case: Color correction and balancing, as it is designed to approximate human vision and provides a perceptually uniform color space."
   ]
  }
 ],
 "metadata": {
  "kernelspec": {
   "display_name": "Python 3 (ipykernel)",
   "language": "python",
   "name": "python3"
  },
  "language_info": {
   "codemirror_mode": {
    "name": "ipython",
    "version": 3
   },
   "file_extension": ".py",
   "mimetype": "text/x-python",
   "name": "python",
   "nbconvert_exporter": "python",
   "pygments_lexer": "ipython3",
   "version": "3.10.9"
  }
 },
 "nbformat": 4,
 "nbformat_minor": 5
}
