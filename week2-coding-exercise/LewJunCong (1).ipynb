{
 "cells": [
  {
   "cell_type": "markdown",
   "id": "56d304f2",
   "metadata": {},
   "source": [
    "## Exercises\n",
    "1. Find the range of values for each of the following data types:\n",
    "    * `uint8`\n",
    "    * `int8`\n",
    "    * `uint32`\n",
    "    * `int32`\n"
   ]
  },
  {
   "cell_type": "code",
   "execution_count": 1,
   "id": "164fcce8",
   "metadata": {},
   "outputs": [
    {
     "name": "stdout",
     "output_type": "stream",
     "text": [
      "Ranges of data types:\n",
      "uint8: 0 to 255\n",
      "int8: -128 to 127\n",
      "uint32: 0 to 4294967295\n",
      "int32: -2147483648 to 2147483647\n"
     ]
    }
   ],
   "source": [
    "import numpy as np\n",
    "\n",
    "data_types = [np.uint8, np.int8, np.uint32, np.int32]\n",
    "ranges = []\n",
    "\n",
    "for dtype in data_types:\n",
    "    info = np.iinfo(dtype)\n",
    "    ranges.append(f\"{dtype.__name__}: {info.min} to {info.max}\")\n",
    "\n",
    "print(\"Ranges of data types:\")\n",
    "for range in ranges:\n",
    "    print(range)"
   ]
  },
  {
   "cell_type": "markdown",
   "id": "d205ddbc",
   "metadata": {},
   "source": [
    "2. Try to write a simple custom function to determine whether a given integer is odd or even number."
   ]
  },
  {
   "cell_type": "code",
   "execution_count": 2,
   "id": "14764450",
   "metadata": {},
   "outputs": [
    {
     "name": "stdout",
     "output_type": "stream",
     "text": [
      "17 is odd.\n"
     ]
    }
   ],
   "source": [
    "def is_odd(num):\n",
    "    \"\"\"\n",
    "    Checks if a number is odd.\n",
    "\n",
    "    Args:\n",
    "        num (int): The number to check.\n",
    "\n",
    "    Returns:\n",
    "        bool: True if the number is odd, False otherwise.\n",
    "    \"\"\"\n",
    "\n",
    "    return num % 2 != 0\n",
    "\n",
    "number = 17\n",
    "if is_odd(number):\n",
    "    print(f\"{number} is odd.\")\n",
    "else:\n",
    "    print(f\"{number} is even.\")"
   ]
  },
  {
   "cell_type": "markdown",
   "id": "331d4c69",
   "metadata": {},
   "source": [
    "3. Write a simple example code to show that Numpy is more efficient in numerical computation of large arrays of data than equivalent Python list."
   ]
  },
  {
   "cell_type": "code",
   "execution_count": 4,
   "id": "026a774c",
   "metadata": {},
   "outputs": [
    {
     "name": "stdout",
     "output_type": "stream",
     "text": [
      "Time taken using Python lists: 0.10913 seconds\n",
      "Time taken using NumPy arrays: 0.00306 seconds\n"
     ]
    }
   ],
   "source": [
    "import numpy as np\n",
    "import time\n",
    "\n",
    "# Define the size of the arrays/lists\n",
    "size = 10**6\n",
    "\n",
    "# Create two large Python lists\n",
    "list1 = list(range(size))\n",
    "list2 = list(range(size))\n",
    "\n",
    "# Create two large NumPy arrays\n",
    "array1 = np.arange(size)\n",
    "array2 = np.arange(size)\n",
    "\n",
    "# Measure the time taken for element-wise addition using Python lists\n",
    "start_time = time.time()\n",
    "result_list = [x + y for x, y in zip(list1, list2)]\n",
    "end_time = time.time()\n",
    "python_time = end_time - start_time\n",
    "\n",
    "print(f\"Time taken using Python lists: {python_time:.5f} seconds\")\n",
    "\n",
    "# Measure the time taken for element-wise addition using NumPy arrays\n",
    "start_time = time.time()\n",
    "result_array = array1 + array2\n",
    "end_time = time.time()\n",
    "numpy_time = end_time - start_time\n",
    "\n",
    "print(f\"Time taken using NumPy arrays: {numpy_time:.5f} seconds\")"
   ]
  },
  {
   "cell_type": "markdown",
   "id": "f40598aa",
   "metadata": {},
   "source": [
    "4. Run the following codes:\n",
    "```python\n",
    "    # create a 1D array\n",
    "    my_arr = np.arange(10)\n",
    "    print(\"Initial my_arr: \", my_arr)\n",
    "    arr_slice = my_arr\n",
    "    print(\"Initial arr_slice: \", arr_slice)\n",
    "\n",
    "    # change the first element of arr_slice\n",
    "    arr_slice[0] = 55\n",
    "\n",
    "    print(\"my_arr: \", my_arr)\n",
    "    print(\"arr_slice: \", arr_slice)\n",
    "```\n",
    "\n",
    "    What do you notice? Propose a way to reassign `arr_slice` with new value       **without modifying** `my_arr`.\n"
   ]
  },
  {
   "cell_type": "code",
   "execution_count": 6,
   "id": "210aa6d9",
   "metadata": {},
   "outputs": [
    {
     "name": "stdout",
     "output_type": "stream",
     "text": [
      "Initial my_arr:  [0 1 2 3 4 5 6 7 8 9]\n",
      "Initial arr_slice:  [0 1 2 3 4 5 6 7 8 9]\n",
      "my_arr:  [88  1  2  3  4  5  6  7  8  9]\n",
      "arr_slice:  [88  1  2  3  4  5  6  7  8  9]\n"
     ]
    }
   ],
   "source": [
    "my_arr = np.arange(10)\n",
    "print(\"Initial my_arr: \", my_arr)\n",
    "arr_slice = my_arr\n",
    "print(\"Initial arr_slice: \", arr_slice)\n",
    "\n",
    "# change the first element of arr_slice\n",
    "arr_slice[0] = 88\n",
    "\n",
    "print(\"my_arr: \", my_arr)\n",
    "print(\"arr_slice: \", arr_slice)"
   ]
  },
  {
   "cell_type": "markdown",
   "id": "c9af1735",
   "metadata": {},
   "source": [
    "5. Create an image as shown as the following with the help of Numpy and matplotlib modules. You can arbitrarily set the dimension of the image and white circular spot at the middle.\n"
   ]
  },
  {
   "cell_type": "code",
   "execution_count": 11,
   "id": "676d7663",
   "metadata": {},
   "outputs": [
    {
     "data": {
      "image/png": "[encoded data removed]",
      "text/plain": [
       "<Figure size 640x480 with 1 Axes>"
      ]
     },
     "metadata": {},
     "output_type": "display_data"
    }
   ],
   "source": [
    "import numpy as np\n",
    "import matplotlib.pyplot as plt\n",
    "\n",
    "# Define image dimensions\n",
    "image_size = 256  # Adjust this as needed\n",
    "\n",
    "# Define spot radius (adjust this as needed)\n",
    "spot_radius = 45\n",
    "\n",
    "# Create a zero-filled NumPy array for the image\n",
    "image = np.zeros((image_size, image_size))\n",
    "\n",
    "# Calculate distance from center\n",
    "center_x = image_size // 2\n",
    "center_y = center_x\n",
    "\n",
    "# Create mesh grids for x and y coordinates\n",
    "y, x = np.meshgrid(np.arange(image_size), np.arange(image_size))\n",
    "distance = np.sqrt(((x - center_x) ** 2) + ((y - center_y) ** 2))\n",
    "\n",
    "# Set spot values to white (255) within the spot radius\n",
    "image[distance <= spot_radius] = 255\n",
    "\n",
    "# Plot the image\n",
    "plt.imshow(image, cmap='gray')  \n",
    "plt.show()"
   ]
  },
  {
   "cell_type": "code",
   "execution_count": null,
   "id": "7a010d56",
   "metadata": {},
   "outputs": [],
   "source": []
  }
 ],
 "metadata": {
  "kernelspec": {
   "display_name": "Python 3 (ipykernel)",
   "language": "python",
   "name": "python3"
  },
  "language_info": {
   "codemirror_mode": {
    "name": "ipython",
    "version": 3
   },
   "file_extension": ".py",
   "mimetype": "text/x-python",
   "name": "python",
   "nbconvert_exporter": "python",
   "pygments_lexer": "ipython3",
   "version": "3.10.9"
  }
 },
 "nbformat": 4,
 "nbformat_minor": 5
}
