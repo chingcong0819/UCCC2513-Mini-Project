{
 "cells": [
  {
   "cell_type": "markdown",
   "id": "7314165a-cd83-4dae-8233-d3b9e6215179",
   "metadata": {},
   "source": [
    "### Task 1: Range of values\n",
    "| Data type | Minima | Maxima |\n",
    "|-|-|-|\n",
    "|*unit8*|0|$2^{8}-1$|\n",
    "|*int8*|$-2^{7}$|$2^{7}-1$|\n",
    "|*unit32*|0|$2^{32}-1$|\n",
    "|*int32*|$-2^{31}$|$2^{31}-1$|"
   ]
  },
  {
   "cell_type": "markdown",
   "id": "7774dc1b-25fc-4321-9c1d-b5f3d829603f",
   "metadata": {},
   "source": [
    "##### Unsigned integer means that the bytes for storing the value will not have negative MSB\n",
    "##### For signed integer, one bit will be used for indicating the current number is either positive or negative.\n",
    "##### If MSB is lift up, the number will be negative.\n",
    "\n",
    "###### Calculation Example: int8\n",
    "###### 10000000 = -128\n",
    "###### 10000001 = -128 + 1 = -127\n",
    "###### 10000010 = -128 + 2 = -126\n",
    "###### 10000011 = -128 + 2 + 1 = -125\n",
    "\n",
    "*Value* = $−2^7 + sum^6_{i=0} b_i * 2^i$\n",
    "\n",
    "where $b_i$ is the bit at position *i* (0 or 1)"
   ]
  },
  {
   "cell_type": "markdown",
   "id": "8f9538b2-af8f-426b-bd5b-5f15e3f3ffe7",
   "metadata": {},
   "source": [
    "### Task 2: Function to determine odd or even number"
   ]
  },
  {
   "cell_type": "code",
   "execution_count": 1,
   "id": "50f0600a-0048-4c10-a2e0-4b411deaac7b",
   "metadata": {},
   "outputs": [],
   "source": [
    "def is_even(num):\n",
    "    \"\"\"\n",
    "    Description: O(1)\n",
    "    Function that check if number is an even number.\n",
    "    ----\n",
    "    Argument:\n",
    "    num <= int\n",
    "    ---\n",
    "    Return:\n",
    "    True : if num is even number\n",
    "    False: if num is odd number\n",
    "    \"\"\"\n",
    "    return num%2 == 0"
   ]
  },
  {
   "cell_type": "code",
   "execution_count": 2,
   "id": "8193a1f9-9c35-4c08-aa15-3108f223098f",
   "metadata": {},
   "outputs": [
    {
     "name": "stdout",
     "output_type": "stream",
     "text": [
      "False\n",
      "True\n"
     ]
    }
   ],
   "source": [
    "print(is_even(3))\n",
    "print(is_even(40))"
   ]
  },
  {
   "cell_type": "markdown",
   "id": "00f4efc2-bb16-4611-80ec-c200712e4f66",
   "metadata": {},
   "source": [
    "### Task 3: Numpy array vs list in numerical computation speed"
   ]
  },
  {
   "cell_type": "code",
   "execution_count": 5,
   "id": "88abe51f-6c91-4a10-9bd2-9d79ea7ca0c4",
   "metadata": {},
   "outputs": [
    {
     "name": "stdout",
     "output_type": "stream",
     "text": [
      "NumPy sum time: 0.000000 seconds. Total sum: 499999500000\n",
      "Python list sum time: 0.014237 seconds. Total sum: 499999500000\n"
     ]
    }
   ],
   "source": [
    "import numpy as np\n",
    "import time\n",
    "\n",
    "# Create large arrays/lists\n",
    "n = 1000000\n",
    "numpy_array = np.arange(n, dtype=np.int64)\n",
    "python_list = list(range(n))\n",
    "\n",
    "# Sum operation with NumPy array\n",
    "start_time = time.time()\n",
    "np_sum = np.sum(numpy_array)\n",
    "numpy_time = time.time() - start_time\n",
    "\n",
    "# Sum operation with Python list\n",
    "start_time = time.time()\n",
    "py_sum = sum(python_list)\n",
    "python_time = time.time() - start_time\n",
    "\n",
    "print(f\"NumPy sum time: {numpy_time:.6f} seconds. Total sum: {np_sum}\")\n",
    "print(f\"Python list sum time: {python_time:.6f} seconds. Total sum: {py_sum}\")\n"
   ]
  },
  {
   "cell_type": "markdown",
   "id": "779c59e3-f369-4610-9fdf-f77ee8386c30",
   "metadata": {},
   "source": [
    "### Task 4: Deep copy vs Reference copy in array"
   ]
  },
  {
   "cell_type": "code",
   "execution_count": 10,
   "id": "bc99ed43-0cc5-4ca1-b3e1-c08568828868",
   "metadata": {},
   "outputs": [
    {
     "name": "stdout",
     "output_type": "stream",
     "text": [
      "Reference Copy\n",
      "Initial my_arr:  [0 1 2 3 4 5 6 7 8 9]\n",
      "Initial arr_slice:  [0 1 2 3 4 5 6 7 8 9]\n",
      "my_arr:  [55  1  2  3  4  5  6  7  8  9]\n",
      "arr_slice:  [55  1  2  3  4  5  6  7  8  9]\n",
      "\n",
      "Deep Copy\n",
      "Initial my_arr:  [0 1 2 3 4 5 6 7 8 9]\n",
      "Initial arr_slice:  [0 1 2 3 4 5 6 7 8 9]\n",
      "my_arr:  [0 1 2 3 4 5 6 7 8 9]\n",
      "arr_slice:  [55  1  2  3  4  5  6  7  8  9]\n"
     ]
    }
   ],
   "source": [
    "print('Reference Copy')\n",
    "my_arr = np.arange(10)\n",
    "print(\"Initial my_arr: \", my_arr)\n",
    "arr_slice = my_arr\n",
    "print(\"Initial arr_slice: \", arr_slice)\n",
    "\n",
    "# change the first element of arr_slice\n",
    "arr_slice[0] = 55\n",
    "print(\"my_arr: \", my_arr)\n",
    "print(\"arr_slice: \", arr_slice)\n",
    "\n",
    "print('\\nDeep Copy')\n",
    "my_arr = np.arange(10)\n",
    "print(\"Initial my_arr: \", my_arr)\n",
    "arr_slice = np.copy(my_arr)\n",
    "print(\"Initial arr_slice: \", arr_slice)\n",
    "\n",
    "# change the first element of arr_slice\n",
    "arr_slice[0] = 55\n",
    "print(\"my_arr: \", my_arr)\n",
    "print(\"arr_slice: \", arr_slice)"
   ]
  },
  {
   "cell_type": "markdown",
   "id": "c819bbf6-1cae-47ba-a90d-8b1b7ba74bb4",
   "metadata": {},
   "source": [
    "### Task 5: Image of white circular spot at the middle with black background"
   ]
  },
  {
   "cell_type": "code",
   "execution_count": 28,
   "id": "703a2ec3-9940-40ee-b935-d65bd5a98790",
   "metadata": {},
   "outputs": [
    {
     "data": {
      "image/png": "[encoded data removed]",
      "text/plain": [
       "<Figure size 600x600 with 1 Axes>"
      ]
     },
     "metadata": {},
     "output_type": "display_data"
    }
   ],
   "source": [
    "import numpy as np\n",
    "import matplotlib.pyplot as plt\n",
    "\n",
    "# Define the dimensions of the image\n",
    "image_size = 200  # Choose a suitable size for your image (e.g., 200x200)\n",
    "\n",
    "# Create a 2D grid of coordinates\n",
    "x = np.arange(image_size)\n",
    "y = np.arange(image_size)\n",
    "X, Y = np.meshgrid(x, y)\n",
    "\n",
    "# Calculate the center of the image\n",
    "center_x = image_size // 2\n",
    "center_y = image_size // 2\n",
    "\n",
    "# Create a blank image (initialize with zeros)\n",
    "image = np.zeros((image_size, image_size))\n",
    "\n",
    "# Calculate the distance from the center for each pixel\n",
    "distance_from_center = np.sqrt((X - center_x)**2 + (Y - center_y)**2)\n",
    "\n",
    "# Set a threshold radius for the white circular spot\n",
    "radius = 30\n",
    "\n",
    "# Create the circular spot (where distance < radius)\n",
    "image[distance_from_center < radius] = 255  # Set to 255 for white (if set 100, we will get grey color) \n",
    "\n",
    "# Display the image using matplotlib\n",
    "plt.figure(figsize=(6, 6))  # Adjust the figure size as needed\n",
    "plt.imshow(image, cmap='gray', vmax=255, vmin=0)  # Display as grayscale image \n",
    "plt.axis('off')  # Turn off axis labels\n",
    "plt.title('Image with White Circular Spot at the Middle')\n",
    "plt.show()\n"
   ]
  }
 ],
 "metadata": {
  "kernelspec": {
   "display_name": "Python 3 (ipykernel)",
   "language": "python",
   "name": "python3"
  },
  "language_info": {
   "codemirror_mode": {
    "name": "ipython",
    "version": 3
   },
   "file_extension": ".py",
   "mimetype": "text/x-python",
   "name": "python",
   "nbconvert_exporter": "python",
   "pygments_lexer": "ipython3",
   "version": "3.11.4"
  }
 },
 "nbformat": 4,
 "nbformat_minor": 5
}
