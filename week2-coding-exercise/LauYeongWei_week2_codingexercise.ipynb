{
 "cells": [
  {
   "cell_type": "markdown",
   "id": "6352aefc-419e-4d59-bd34-aa9a9222f5e9",
   "metadata": {},
   "source": [
    "## Q1\n",
    "\n",
    "1. Find the range of values for each of the following data types:\n",
    "    * `uint8`: 0 to 255\n",
    "    * `int8`: -128 to 127\n",
    "    * `uint32`: 0 to 4,294,967,295\n",
    "    * `int32`: 2,147,483,648 to 2,147,483,647"
   ]
  },
  {
   "cell_type": "markdown",
   "id": "d2726e1f-1948-4a0f-ae48-83d50c6eaf86",
   "metadata": {},
   "source": [
    "## Q2 \n",
    "2. Try to write a simple custom function to determine whether a given integer is odd or even number."
   ]
  },
  {
   "cell_type": "code",
   "execution_count": 1,
   "id": "f6c98b87-04b0-4bbc-a527-1699aac661b6",
   "metadata": {},
   "outputs": [
    {
     "name": "stdin",
     "output_type": "stream",
     "text": [
      "Please enter an integer:  20\n"
     ]
    },
    {
     "name": "stdout",
     "output_type": "stream",
     "text": [
      "20 is even.\n"
     ]
    }
   ],
   "source": [
    "def odd_or_even(num):\n",
    "    if num % 2 == 0:\n",
    "        return f\"{num} is even.\"\n",
    "    else:\n",
    "        return f\"{num} is odd.\"\n",
    "\n",
    "user_input = int(input(\"Please enter an integer: \"))\n",
    "result = odd_or_even(user_input)\n",
    "print(result)"
   ]
  },
  {
   "cell_type": "markdown",
   "id": "bc66c37e-f423-4d3d-9cb9-7aaf10d29402",
   "metadata": {},
   "source": [
    "3. Write a simple example code to show that Numpy is more efficient in numerical computation of large arrays of data than equivalent Python list."
   ]
  },
  {
   "cell_type": "code",
   "execution_count": 5,
   "id": "af85d34e-59ce-42e9-82aa-0669719a2e21",
   "metadata": {},
   "outputs": [
    {
     "name": "stdout",
     "output_type": "stream",
     "text": [
      "NumPy result: [ 0  1  4  9 16 25 36 49 64 81]\n",
      "Python list result: [0, 1, 4, 9, 16, 25, 36, 49, 64, 81]\n",
      "\n",
      "Execution time comparison (seconds):\n",
      "NumPy: 0.001994\n",
      "Python list: 0.099284\n"
     ]
    }
   ],
   "source": [
    "import numpy as np\n",
    "import time\n",
    "\n",
    "# Create a large array of numbers\n",
    "array_size = 10**6  \n",
    "np_array = np.arange(array_size)  # NumPy array\n",
    "py_list = list(range(array_size))  # Python list\n",
    "\n",
    "start_time = time.time()\n",
    "np_result = np_array ** 2\n",
    "numpy_time = time.time() - start_time\n",
    "\n",
    "# Using Python list\n",
    "start_time = time.time()\n",
    "py_result = [x ** 2 for x in py_list]\n",
    "python_time = time.time() - start_time\n",
    "\n",
    "# Comparing the results (just to verify correctness)\n",
    "print(\"NumPy result:\", np_result[:10])\n",
    "print(\"Python list result:\", py_result[:10])\n",
    "\n",
    "# Comparing the execution times\n",
    "print(\"\\nExecution time comparison (seconds):\")\n",
    "print(\"NumPy: {:.6f}\".format(numpy_time))\n",
    "print(\"Python list: {:.6f}\".format(python_time))"
   ]
  },
  {
   "cell_type": "markdown",
   "id": "595112f9-d1ad-4666-8c60-299d3eab7056",
   "metadata": {},
   "source": [
    "## 4"
   ]
  },
  {
   "cell_type": "code",
   "execution_count": 6,
   "id": "01edd1b9-94d5-4d0a-8111-d27865e9159a",
   "metadata": {},
   "outputs": [
    {
     "name": "stdout",
     "output_type": "stream",
     "text": [
      "Initial my_arr:  [0 1 2 3 4 5 6 7 8 9]\n",
      "Initial arr_slice:  [0 1 2 3 4 5 6 7 8 9]\n",
      "my_arr:  [52  1  2  3  4  5  6  7  8  9]\n",
      "arr_slice:  [52  1  2  3  4  5  6  7  8  9]\n"
     ]
    }
   ],
   "source": [
    "my_arr = np.arange(10)\n",
    "print(\"Initial my_arr: \", my_arr)\n",
    "arr_slice = my_arr\n",
    "print(\"Initial arr_slice: \", arr_slice)\n",
    "\n",
    "# change the first element of arr_slice\n",
    "arr_slice[0] = 52\n",
    "\n",
    "print(\"my_arr: \", my_arr)\n",
    "print(\"arr_slice: \", arr_slice)"
   ]
  },
  {
   "cell_type": "markdown",
   "id": "95cb95c4-fd0d-4ef3-afb6-ec4fbef03904",
   "metadata": {},
   "source": [
    "when the array value in arr_slice change, the array value of my_arr will also follow the changes "
   ]
  },
  {
   "cell_type": "code",
   "execution_count": 7,
   "id": "6d98c37c-3e7c-45ab-91c6-fd0a3590ca8b",
   "metadata": {},
   "outputs": [
    {
     "name": "stdout",
     "output_type": "stream",
     "text": [
      "Initial my_arr:  [0 1 2 3 4 5 6 7 8 9]\n",
      "Initial arr_slice:  [0 1 2 3 4 5 6 7 8 9]\n",
      "my_arr:  [0 1 2 3 4 5 6 7 8 9]\n",
      "arr_slice:  [55  1  2  3  4  5  6  7  8  9]\n"
     ]
    }
   ],
   "source": [
    "import numpy as np\n",
    "\n",
    "# create a 1D array\n",
    "my_arr = np.arange(10)\n",
    "print(\"Initial my_arr: \", my_arr)\n",
    "arr_slice = my_arr.copy()  # Create a copy of my_arr\n",
    "print(\"Initial arr_slice: \", arr_slice)\n",
    "\n",
    "# change the first element of arr_slice\n",
    "arr_slice[0] = 55\n",
    "\n",
    "print(\"my_arr: \", my_arr)\n",
    "print(\"arr_slice: \", arr_slice)"
   ]
  },
  {
   "cell_type": "markdown",
   "id": "f89e4211-14d7-439d-9f85-423521b0b204",
   "metadata": {},
   "source": [
    "5. Create an image as shown as the following with the help of Numpy and matplotlib modules. You can arbitrarily set the dimension of the image and white circular spot at the middle."
   ]
  },
  {
   "cell_type": "code",
   "execution_count": 9,
   "id": "4e4002ca-8381-48fc-9ea2-20157806ec2d",
   "metadata": {},
   "outputs": [
    {
     "data": {
      "image/png": "[encoded data removed]",
      "text/plain": [
       "<Figure size 640x480 with 1 Axes>"
      ]
     },
     "metadata": {},
     "output_type": "display_data"
    }
   ],
   "source": [
    "import numpy as np\n",
    "import matplotlib.pyplot as plt\n",
    "\n",
    "# Set the image dimensions\n",
    "height, width = 256, 256\n",
    "\n",
    "# Create a black image (all zeros)\n",
    "img = np.zeros((height, width), dtype=np.uint8)\n",
    "\n",
    "# Set the center coordinates of the circular spot\n",
    "center_x, center_y = width // 2, height // 2\n",
    "\n",
    "# Set the radius of the circular spot\n",
    "radius = 50\n",
    "\n",
    "# Create a mask for the circular spot\n",
    "mask = (np.sqrt((np.arange(width) - center_x) ** 2 + (np.arange(height)[:, None] - center_y) ** 2) <= radius)\n",
    "\n",
    "# Set the pixels inside the circular spot to white (255)\n",
    "img[mask] = 255\n",
    "\n",
    "# Display the image\n",
    "plt.imshow(img, cmap='gray')\n",
    "plt.axis('off')\n",
    "plt.show()"
   ]
  },
  {
   "cell_type": "code",
   "execution_count": null,
   "id": "5387c4ce-17f6-4c29-8ede-a8223677f156",
   "metadata": {},
   "outputs": [],
   "source": []
  }
 ],
 "metadata": {
  "kernelspec": {
   "display_name": "Python 3 (ipykernel)",
   "language": "python",
   "name": "python3"
  },
  "language_info": {
   "codemirror_mode": {
    "name": "ipython",
    "version": 3
   },
   "file_extension": ".py",
   "mimetype": "text/x-python",
   "name": "python",
   "nbconvert_exporter": "python",
   "pygments_lexer": "ipython3",
   "version": "3.12.4"
  }
 },
 "nbformat": 4,
 "nbformat_minor": 5
}
