{
 "cells": [
  {
   "cell_type": "code",
   "execution_count": 1,
   "id": "bb53cbe3-ffe7-4b1b-8349-4bfeceee3c4a",
   "metadata": {},
   "outputs": [
    {
     "name": "stdout",
     "output_type": "stream",
     "text": [
      "Requirement already satisfied: opencv-contrib-python in c:\\users\\ong dun yi\\desktop\\biscuit\\python_version\\py3-11-uni-use\\lib\\site-packages (4.10.0.84)\n",
      "Requirement already satisfied: numpy>=1.21.2 in c:\\users\\ong dun yi\\desktop\\biscuit\\python_version\\py3-11-uni-use\\lib\\site-packages (from opencv-contrib-python) (1.25.2)\n",
      "Note: you may need to restart the kernel to use updated packages.\n"
     ]
    },
    {
     "name": "stderr",
     "output_type": "stream",
     "text": [
      "\n",
      "[notice] A new release of pip is available: 23.1.2 -> 24.1.2\n",
      "[notice] To update, run: C:\\Users\\Ong Dun Yi\\Desktop\\Biscuit\\Python_Version\\PY3-11-Uni-Use\\python.exe -m pip install --upgrade pip\n"
     ]
    }
   ],
   "source": [
    "pip install opencv-contrib-python"
   ]
  },
  {
   "cell_type": "code",
   "execution_count": 2,
   "id": "b2057603-f0bd-44c7-8655-7391309fd38c",
   "metadata": {},
   "outputs": [
    {
     "name": "stdout",
     "output_type": "stream",
     "text": [
      "Image saved as dog.png\n"
     ]
    }
   ],
   "source": [
    "#1\n",
    "\n",
    "import cv2\n",
    "\n",
    "# Load the image\n",
    "image_path = 'dog.jfif'\n",
    "img = cv2.imread(image_path, cv2.IMREAD_UNCHANGED)\n",
    "\n",
    "# Display the image (optional)\n",
    "cv2.imshow('Image', img)\n",
    "cv2.waitKey(0)\n",
    "cv2.destroyAllWindows()\n",
    "\n",
    "# Save the image in PNG format\n",
    "output_path = 'dog.png'\n",
    "cv2.imwrite(output_path, img)\n",
    "\n",
    "print(f'Image saved as {output_path}')\n"
   ]
  },
  {
   "cell_type": "code",
   "execution_count": 5,
   "id": "0cf366ee-b85f-4060-b41c-96d535696081",
   "metadata": {},
   "outputs": [],
   "source": [
    "#2\n",
    "\n",
    "# Load the original color image\n",
    "color_image_path = 'color_image1.jpg'\n",
    "color_img = cv2.imread(color_image_path)\n",
    "\n",
    "# Convert the color image to grayscale\n",
    "gray_img = cv2.cvtColor(color_img, cv2.COLOR_BGR2GRAY)\n",
    "\n",
    "# Display both images\n",
    "cv2.imshow('Color Image', color_img)\n",
    "cv2.imshow('Grayscale Image', gray_img)\n",
    "cv2.waitKey(0)\n",
    "cv2.destroyAllWindows()\n"
   ]
  },
  {
   "cell_type": "code",
   "execution_count": 6,
   "id": "8f2889dd-861d-427f-b441-7135e2640096",
   "metadata": {},
   "outputs": [],
   "source": [
    "img = cv2.imread('color_image2.jpg')\n",
    "img_grayscale = cv2.imread('color_image2.jpg', 0)\n",
    "\n",
    "cv2.imshow(\"original\", img)\n",
    "cv2.imshow('grayscale', img_grayscale)\n",
    "cv2.waitKey(0)\n",
    "cv2.destroyAllWindows()"
   ]
  },
  {
   "cell_type": "code",
   "execution_count": 8,
   "id": "eb25b1ce-4c6b-4dfd-a508-08226e4b774c",
   "metadata": {},
   "outputs": [
    {
     "name": "stdout",
     "output_type": "stream",
     "text": [
      "Video saved as smaller_img_pexels.avi\n"
     ]
    }
   ],
   "source": [
    "#3\n",
    "\n",
    "# Open the video file\n",
    "video_path = 'img_pexels.mp4'\n",
    "cap = cv2.VideoCapture(video_path)\n",
    "\n",
    "# Check if the video opened successfully\n",
    "if not cap.isOpened():\n",
    "    print(\"Error: Could not open video.\")\n",
    "    exit()\n",
    "\n",
    "# Get the original video's frame dimensions\n",
    "original_width = int(cap.get(cv2.CAP_PROP_FRAME_WIDTH))\n",
    "original_height = int(cap.get(cv2.CAP_PROP_FRAME_HEIGHT))\n",
    "\n",
    "# Define the new dimensions for resizing\n",
    "new_width = original_width // 2  # Divide original width by 2\n",
    "new_height = original_height // 2  # Divide original height by 2\n",
    "\n",
    "# Define the codec and create VideoWriter object\n",
    "output_path = 'smaller_img_pexels.avi'\n",
    "fourcc = cv2.VideoWriter_fourcc(*'XVID')\n",
    "out = cv2.VideoWriter(output_path, fourcc, 20.0, (new_width, new_height))\n",
    "\n",
    "# Read until video is completed\n",
    "while cap.isOpened():\n",
    "    ret, frame = cap.read()\n",
    "    if ret:\n",
    "        # Resize the frame\n",
    "        resized_frame = cv2.resize(frame, (new_width, new_height))\n",
    "        \n",
    "        # Display the resized frame\n",
    "        cv2.imshow('Resized Video', resized_frame)\n",
    "        \n",
    "        # Write the resized frame to the output video file\n",
    "        out.write(resized_frame)\n",
    "        \n",
    "        # Press 'q' to exit\n",
    "        if cv2.waitKey(25) & 0xFF == ord('q'):\n",
    "            break\n",
    "    else:\n",
    "        break\n",
    "\n",
    "# Release everything when done\n",
    "cap.release()\n",
    "out.release()\n",
    "cv2.destroyAllWindows()\n",
    "\n",
    "print(f'Video saved as {output_path}')\n"
   ]
  },
  {
   "cell_type": "code",
   "execution_count": 9,
   "id": "3565ead6-9cec-484d-ae32-e0e81a88a235",
   "metadata": {},
   "outputs": [
    {
     "name": "stdout",
     "output_type": "stream",
     "text": [
      "Nearest Neighbor interpolation took 0.0000 seconds\n",
      "Resized image saved as dog_enlarged_Nearest Neighbor.jpg\n",
      "\n",
      "Linear (Bilinear) interpolation took 0.0013 seconds\n",
      "Resized image saved as dog_enlarged_Linear (Bilinear).jpg\n",
      "\n",
      "Cubic (Bicubic) interpolation took 0.0010 seconds\n",
      "Resized image saved as dog_enlarged_Cubic (Bicubic).jpg\n",
      "\n"
     ]
    }
   ],
   "source": [
    "#4\n",
    "\n",
    "import time\n",
    "\n",
    "# Load the original image using OpenCV\n",
    "image_path = 'dog.jfif'\n",
    "img = cv2.imread(image_path)\n",
    "\n",
    "# Define the scale factor (4x)\n",
    "scale_factor = 4\n",
    "\n",
    "# Define interpolation methods in OpenCV\n",
    "methods = [cv2.INTER_NEAREST, cv2.INTER_LINEAR, cv2.INTER_CUBIC]\n",
    "method_names = ['Nearest Neighbor', 'Linear (Bilinear)', 'Cubic (Bicubic)']\n",
    "\n",
    "# Perform resizing and measure execution time\n",
    "for method, method_name in zip(methods, method_names):\n",
    "    start_time = time.time()\n",
    "    \n",
    "    # Resize the image using the specified method\n",
    "    resized_img = cv2.resize(img, None, fx=scale_factor, fy=scale_factor, interpolation=method)\n",
    "    \n",
    "    # Calculate and print the execution time\n",
    "    execution_time = time.time() - start_time\n",
    "    print(f'{method_name} interpolation took {execution_time:.4f} seconds')\n",
    "    \n",
    "    # Save the resized image\n",
    "    output_path = f'dog_enlarged_{method_name}.jpg'\n",
    "    cv2.imwrite(output_path, resized_img)\n",
    "    print(f'Resized image saved as {output_path}\\n')\n",
    "\n",
    "# Display the original image using OpenCV (optional)\n",
    "cv2.imshow('Original Image', img)\n",
    "cv2.waitKey(0)\n",
    "cv2.destroyAllWindows()\n"
   ]
  },
  {
   "cell_type": "markdown",
   "id": "da8fe6c4-555a-4386-95a8-f9ebad80bd58",
   "metadata": {},
   "source": [
    "# Comment on Task 4\n",
    "### The quality of Linear (Bilinear) enlargement is the worst compare to others.\n",
    "### The quality of Cubic (Bicubic) can be considered average among the result.\n",
    "### The quality of Nearest Neighbour is the most nice in look."
   ]
  },
  {
   "cell_type": "code",
   "execution_count": null,
   "id": "fab38a36-35c0-4fe0-98a4-e4cd2452b0b8",
   "metadata": {},
   "outputs": [],
   "source": []
  }
 ],
 "metadata": {
  "kernelspec": {
   "display_name": "Python 3 (ipykernel)",
   "language": "python",
   "name": "python3"
  },
  "language_info": {
   "codemirror_mode": {
    "name": "ipython",
    "version": 3
   },
   "file_extension": ".py",
   "mimetype": "text/x-python",
   "name": "python",
   "nbconvert_exporter": "python",
   "pygments_lexer": "ipython3",
   "version": "3.11.4"
  }
 },
 "nbformat": 4,
 "nbformat_minor": 5
}
