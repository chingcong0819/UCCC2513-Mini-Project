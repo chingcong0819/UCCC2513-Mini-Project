{
 "cells": [
  {
   "cell_type": "markdown",
   "id": "6e606324",
   "metadata": {},
   "source": [
    "### Question 1\n",
    "Rotate image by 45 degrees without cropping the sides of the image. (Hint: There are 2 strategies to tackle these problems). Use _\"lena.jfif\"_ as the input image.\n",
    "    - Use external libraries `imutils`.  \n",
    "    - Modify the transformation matrix."
   ]
  },
  {
   "cell_type": "code",
   "execution_count": 1,
   "id": "6ec36738",
   "metadata": {},
   "outputs": [
    {
     "name": "stdout",
     "output_type": "stream",
     "text": [
      "Requirement already satisfied: imutils in c:\\users\\user\\anaconda3\\lib\\site-packages (0.5.4)\n"
     ]
    }
   ],
   "source": [
    "!pip install imutils"
   ]
  },
  {
   "cell_type": "code",
   "execution_count": 2,
   "id": "4c40871a",
   "metadata": {},
   "outputs": [],
   "source": [
    "# Using imutils library\n",
    "import cv2 as cv\n",
    "import imutils\n",
    "\n",
    "# Load the image\n",
    "image = cv.imread('images/lena.jfif')\n",
    "\n",
    "# Rotate the image by 45 degrees without cropping\n",
    "rotated = imutils.rotate_bound(image, 45)\n",
    "\n",
    "# Save the result\n",
    "result_path = 'rotated_image.jpg'\n",
    "save_success = cv.imwrite(result_path, rotated)\n",
    "\n",
    "# Open the saved image using OpenCV\n",
    "saved_image = cv.imread(result_path)\n",
    "\n",
    "# Display the image in an OpenCV window\n",
    "cv.imshow('Rotated Image', saved_image)\n",
    "cv.waitKey(0)\n",
    "cv.destroyAllWindows()"
   ]
  },
  {
   "cell_type": "code",
   "execution_count": 3,
   "id": "3eb9bd84",
   "metadata": {},
   "outputs": [],
   "source": [
    "# Modify the Transformation Matrix\n",
    "import cv2 as cv\n",
    "import imutils\n",
    "import numpy as np\n",
    "\n",
    "# Load the image\n",
    "image = cv.imread('images/lena.jfif')\n",
    "\n",
    "(h, w) = image.shape[:2]\n",
    "(cX, cY) = (w // 2, h // 2)\n",
    "M = cv.getRotationMatrix2D((cX, cY), 45, 1.0)\n",
    "cos = np.abs(M[0, 0])\n",
    "sin = np.abs(M[0, 1])\n",
    "nW = int((h * sin) + (w * cos))\n",
    "nH = int((h * cos) + (w * sin))\n",
    "M[0, 2] += (nW / 2) - cX\n",
    "M[1, 2] += (nH / 2) - cY\n",
    "rotated_matrix = cv.warpAffine(image, M, (nW, nH))\n",
    "result_path_matrix = 'rotated_matrix_image.jpg'\n",
    "save_success_matrix = cv.imwrite(result_path_matrix, rotated_matrix)\n",
    "if not save_success_matrix:\n",
    "    raise IOError('The image could not be saved using transformation matrix. Check the file path and permissions.')\n",
    "\n",
    "# Display the image \n",
    "cv.imshow('Rotated Image (Transformation Matrix)', rotated_matrix)\n",
    "cv.waitKey(0)\n",
    "cv.destroyAllWindows()"
   ]
  },
  {
   "cell_type": "markdown",
   "id": "de1448cc",
   "metadata": {},
   "source": [
    "### Question 2\n",
    "Use the images with titles: _\"flower.jfif\"_ and _\"native-bee.png\"_. I want to put flower above an image. If I add two images, it will change color. If I blend it, I get a transparent effect. But I want it to be opaque. If it was a rectangular region, we could use the ROI as we did in the previous section. But flower is not a rectangular region. This is where bitwise operations, like AND, OR, NOT and XOR really come in handy. The associated functions are `cv.bitwise_and()`, `cv.bitwise_or()` and `cv.bitwise_not()`. You need to use `cv.threshold` function to segment the flower. Please refer to [online documentation]"
   ]
  },
  {
   "cell_type": "code",
   "execution_count": 4,
   "id": "320fc4cd",
   "metadata": {},
   "outputs": [],
   "source": [
    "import cv2 as cv\n",
    "import numpy as np\n",
    "\n",
    "# Load images\n",
    "flower = cv.imread('images/flower.jfif')\n",
    "bee = cv.imread('images/native-bee.png')\n",
    "\n",
    "# Resize flower to fit on bee image\n",
    "flower = cv.resize(flower, (200, 200))\n",
    "\n",
    "# Create a mask of the flower and its inverse mask\n",
    "flower_gray = cv.cvtColor(flower, cv.COLOR_BGR2GRAY)\n",
    "_, mask = cv.threshold(flower_gray, 1, 255, cv.THRESH_BINARY)\n",
    "mask_inv = cv.bitwise_not(mask)\n",
    "\n",
    "# Define the region of interest (ROI) on the bee image\n",
    "rows, cols, _ = flower.shape\n",
    "roi = bee[0:rows, 0:cols]\n",
    "\n",
    "# Black-out the area of the flower in the ROI\n",
    "bee_bg = cv.bitwise_and(roi, roi, mask=mask_inv)\n",
    "\n",
    "# Take only the flower region from the flower image\n",
    "flower_fg = cv.bitwise_and(flower, flower, mask=mask)\n",
    "\n",
    "# Put the flower in the ROI and modify the bee image\n",
    "dst = cv.add(bee_bg, flower_fg)\n",
    "bee[0:rows, 0:cols] = dst\n",
    "\n",
    "# Save the result\n",
    "result_path = 'bee_with_flower.jpg'\n",
    "cv.imwrite(result_path, bee)\n",
    "\n",
    "# Display the image\n",
    "cv.imshow('Bee with Flower', bee)\n",
    "cv.waitKey(0)\n",
    "cv.destroyAllWindows()"
   ]
  },
  {
   "cell_type": "markdown",
   "id": "5269d0cc",
   "metadata": {},
   "source": [
    "### Question 3\n",
    "Write a function that randomly crop the central region of an image. The method signature should be as shown in the following:\n",
    "```\n",
    "random_center_crop(image, min_crop_ratio, max_crop_ratio)\n",
    "```"
   ]
  },
  {
   "cell_type": "code",
   "execution_count": 5,
   "id": "3840db64",
   "metadata": {},
   "outputs": [],
   "source": [
    "import random\n",
    "\n",
    "def random_center_crop(image, min_crop_ratio, max_crop_ratio):\n",
    "    h, w = image.shape[:2]\n",
    "    crop_ratio = random.uniform(min_crop_ratio, max_crop_ratio)\n",
    "    crop_h = int(h * crop_ratio)\n",
    "    crop_w = int(w * crop_ratio)\n",
    "    \n",
    "    start_x = (w - crop_w) // 2\n",
    "    start_y = (h - crop_h) // 2\n",
    "    \n",
    "    cropped_image = image[start_y:start_y + crop_h, start_x:start_x + crop_w]\n",
    "    return cropped_image\n",
    "\n",
    "# Example usage\n",
    "image = cv.imread('images/lena.jfif')\n",
    "\n",
    "cropped_image = random_center_crop(image, 0.5, 0.8)\n",
    "result_path = 'random_cropped_image.jpg'\n",
    "cv.imwrite(result_path, cropped_image)\n",
    "\n",
    "# Display the image\n",
    "cv.imshow('Randomly Cropped Image', cropped_image)\n",
    "cv.waitKey(0)\n",
    "cv.destroyAllWindows()"
   ]
  },
  {
   "cell_type": "markdown",
   "id": "19b81bfc",
   "metadata": {},
   "source": [
    "### Question 4\n",
    "Aside from Gaussian noise, name another common type of noise. Write the code to demonstrate how the noise can be included in an image."
   ]
  },
  {
   "cell_type": "markdown",
   "id": "80a6aae6",
   "metadata": {},
   "source": [
    "ANS: Another common type of noise is Salt-and-Pepper Noise. This type of noise is also known as impulse noise and manifests as sparsely occurring white and black pixels in the image. It is typically caused by sharp, sudden disturbances in the image signal."
   ]
  },
  {
   "cell_type": "code",
   "execution_count": 6,
   "id": "1d87032d",
   "metadata": {},
   "outputs": [],
   "source": [
    "import cv2 as cv\n",
    "import numpy as np\n",
    "\n",
    "def add_salt_and_pepper_noise(image, salt_prob, pepper_prob):\n",
    "    output = np.copy(image)\n",
    "    h, w = image.shape[:2]\n",
    "    \n",
    "    # Add salt noise\n",
    "    num_salt = np.ceil(salt_prob * h * w)\n",
    "    coords = [np.random.randint(0, i, int(num_salt)) for i in image.shape[:2]]\n",
    "    output[coords[0], coords[1]] = 255\n",
    "    \n",
    "    # Add pepper noise\n",
    "    num_pepper = np.ceil(pepper_prob * h * w)\n",
    "    coords = [np.random.randint(0, i, int(num_pepper)) for i in image.shape[:2]]\n",
    "    output[coords[0], coords[1]] = 0\n",
    "    \n",
    "    return output\n",
    "\n",
    "# Example usage\n",
    "image = cv.imread('images/lena.jfif', cv.IMREAD_GRAYSCALE)\n",
    "\n",
    "noisy_image = add_salt_and_pepper_noise(image, 0.02, 0.02)\n",
    "result_path = 'salt_and_pepper_noise.jpg'\n",
    "cv.imwrite(result_path, noisy_image)\n",
    "\n",
    "# Display the image\n",
    "cv.imshow('Salt and Pepper Noise', noisy_image)\n",
    "cv.waitKey(0)\n",
    "cv.destroyAllWindows()"
   ]
  }
 ],
 "metadata": {
  "kernelspec": {
   "display_name": "Python 3 (ipykernel)",
   "language": "python",
   "name": "python3"
  },
  "language_info": {
   "codemirror_mode": {
    "name": "ipython",
    "version": 3
   },
   "file_extension": ".py",
   "mimetype": "text/x-python",
   "name": "python",
   "nbconvert_exporter": "python",
   "pygments_lexer": "ipython3",
   "version": "3.10.9"
  }
 },
 "nbformat": 4,
 "nbformat_minor": 5
}
